{
 "cells": [
  {
   "cell_type": "code",
   "execution_count": 4,
   "id": "60570316-f63a-4d8b-a59a-246def279ad2",
   "metadata": {},
   "outputs": [],
   "source": [
    "# Question_1st:  Discuss string slicing and provide examples.\n"
   ]
  },
  {
   "cell_type": "code",
   "execution_count": 9,
   "id": "7488138e-8ece-404f-ae1e-0b2d8482cf6f",
   "metadata": {},
   "outputs": [
    {
     "data": {
      "text/plain": [
       "['Nikhil', 'Lucky', 'Alok', 'Divyanshu']"
      ]
     },
     "execution_count": 9,
     "metadata": {},
     "output_type": "execute_result"
    }
   ],
   "source": [
    "# 1. Description:Characters arranged in an unchangeable order. Consider writing a sentence, a paragraph, or a piece of material.\n",
    "\n",
    "#2. Operations: Each character in the string can be accessed by its index, or position. Substrings can be extracted using slicing. Strings can be joined together and altered using a variety of techniques (find, replace, etc.).\n",
    "\n",
    "#3. example:\n",
    "lis=[\"Nikhil\",\"Lucky\",\"Alok\",\"Divyanshu\"]\n",
    "lis\n"
   ]
  },
  {
   "cell_type": "code",
   "execution_count": 10,
   "id": "d8e842ce-3ea5-4e0e-8ecb-088218ef6796",
   "metadata": {},
   "outputs": [
    {
     "data": {
      "text/plain": [
       "['Nikhil', 'Lucky', 'Alok', 'Divyanshu']"
      ]
     },
     "execution_count": 10,
     "metadata": {},
     "output_type": "execute_result"
    }
   ],
   "source": [
    "lis[::]"
   ]
  },
  {
   "cell_type": "code",
   "execution_count": 11,
   "id": "6806a935-6688-4a51-a9d4-a3bddf4f3937",
   "metadata": {},
   "outputs": [
    {
     "data": {
      "text/plain": [
       "['Nikhil', 'Alok']"
      ]
     },
     "execution_count": 11,
     "metadata": {},
     "output_type": "execute_result"
    }
   ],
   "source": [
    "lis[::2]"
   ]
  },
  {
   "cell_type": "code",
   "execution_count": 12,
   "id": "1ed52b52-1a1d-474f-9203-ec0cda79cdeb",
   "metadata": {},
   "outputs": [
    {
     "data": {
      "text/plain": [
       "['Alok', 'Divyanshu']"
      ]
     },
     "execution_count": 12,
     "metadata": {},
     "output_type": "execute_result"
    }
   ],
   "source": [
    "lis[2:4]"
   ]
  },
  {
   "cell_type": "code",
   "execution_count": 13,
   "id": "66d1eeca-68c0-4023-898d-c8888e0831c4",
   "metadata": {},
   "outputs": [],
   "source": [
    "# Question_2: Explain the key features of lists in Python."
   ]
  },
  {
   "cell_type": "code",
   "execution_count": 3,
   "id": "68e3fc88-9d79-46e2-9170-ce1260e517ec",
   "metadata": {},
   "outputs": [
    {
     "data": {
      "text/plain": [
       "['apple', 'milk', True, 'bread']"
      ]
     },
     "execution_count": 3,
     "metadata": {},
     "output_type": "execute_result"
    }
   ],
   "source": [
    "#1. Description: Ordered, mutable collections of elements. Think of shopping lists or task lists. Lists can hold items of various data types (numbers, strings, even other lists!).\n",
    "\n",
    "#2. Operations: You can add, remove, or modify elements within a list using indexing and slicing. Lists are versatile for storing and managing collections that might change.\n",
    "\n",
    "#Example: ```python shopping_list = [\"apples\", 2, \"milk\", True] # Mixed data types shopping_list.append(\"bread\") # Adding an item del shopping_list[1]\n",
    "# Removing the second item\n",
    "\n",
    "shopping_list=[\"apple\",2,\"milk\",True]# Mixed data types \n",
    "shopping_list.append(\"bread\") # Adding an item\n",
    "del shopping_list[1]# Removing\n",
    "shopping_list\n",
    "\n",
    "# 3. Analogy: Imagine a shopping cart where you can add new items, remove unwanted ones, or change quantities. Lists offer this flexibility in data storage.\n",
    "\n"
   ]
  },
  {
   "cell_type": "code",
   "execution_count": 4,
   "id": "d139d6b8-3119-4c0d-bb70-8d0897c4702b",
   "metadata": {},
   "outputs": [],
   "source": [
    "# Question_3 : Describe how to accesse modify  and delete elements in a list with examples."
   ]
  },
  {
   "cell_type": "code",
   "execution_count": 9,
   "id": "78065c52-bb7d-490a-9c0d-debe18c03d40",
   "metadata": {},
   "outputs": [
    {
     "name": "stdout",
     "output_type": "stream",
     "text": [
      "apple\n",
      "cherry\n",
      "['banana', 'cherry']\n",
      "['banana', 'cherry', 'date']\n",
      "['apple', 'blueberry', 'cherry', 'date']\n",
      "['apple', 'blueberry', 'orange', 'grape']\n",
      "['apple', 'orange', 'grape']\n",
      "grape\n",
      "['apple', 'orange']\n",
      "['apple', 'orange', 'grape']\n"
     ]
    }
   ],
   "source": [
    "# Answer: Accessing, modifying, and deleting elements in a list are fundamental operations in Python. Here’s a detailed explanation with examples for each operation:\n",
    "\n",
    "# 1.Accessing Element: You can access elements in a list using indexing and slicing.\n",
    "        \n",
    "    # Indexing: Access a specific element by its position in the list (index starts at 0).\n",
    "    \n",
    "my_list = ['apple', 'banana', 'cherry', 'date']\n",
    "\n",
    "# Accessing the first element\n",
    "first_element = my_list[0]\n",
    "print(first_element)  # Output: 'apple'\n",
    "\n",
    "# Accessing the third element\n",
    "third_element = my_list[2]\n",
    "print(third_element)  # Output: 'cherry'\n",
    "\n",
    "    # Slicing: Access a subset of elements using slicing notation list[start:end].\n",
    "    \n",
    "    # Accessing a slice of elements\n",
    "subset = my_list[1:3]\n",
    "print(subset)  # Output: ['banana', 'cherry']\n",
    "\n",
    "# Accessing from a certain index to the end\n",
    "from_second = my_list[1:]\n",
    "print(from_second)  # Output: ['banana', 'cherry', 'date']\n",
    "\n",
    "\n",
    "# 2.Modifying Elements:-You can modify elements in a list by directly assigning new values to specific indices or slices.\n",
    "\n",
    "my_list = ['apple', 'banana', 'cherry', 'date']\n",
    "\n",
    "# Modifying the second element\n",
    "my_list[1] = 'blueberry'\n",
    "print(my_list)  # Output: ['apple', 'blueberry', 'cherry', 'date']\n",
    "\n",
    "# Modifying a slice of elements\n",
    "my_list[2:4] = ['orange', 'grape']\n",
    "print(my_list)  # Output: ['apple', 'blueberry', 'orange', 'grape']\n",
    "\n",
    "\n",
    "# 3. Deleting Elements:- You can delete elements from a list using del statement, pop() method, or remove() method.\n",
    "\n",
    "     # Using del Statement:-\n",
    "       \n",
    "my_list = ['apple', 'blueberry', 'orange', 'grape']\n",
    "\n",
    "# Deleting the second element\n",
    "del my_list[1]\n",
    "print(my_list)  # Output: ['apple', 'orange', 'grape']\n",
    "\n",
    "\n",
    "     # Using pop statement:-\n",
    "    \n",
    "# Removing and returning the last element\n",
    "removed_element = my_list.pop()\n",
    "print(removed_element)  # Output: 'grape'\n",
    "print(my_list)  # Output: ['apple', 'orange']\n",
    "\n",
    "\n",
    "     # Using remove method:-\n",
    "    \n",
    "my_list = ['apple', 'orange', 'orange', 'grape']\n",
    "\n",
    "# Removing 'orange' from the list\n",
    "my_list.remove('orange')\n",
    "print(my_list)  # Output: ['apple', 'orange', 'grape']"
   ]
  },
  {
   "cell_type": "code",
   "execution_count": 10,
   "id": "8740a8ac-ada6-4c51-9a0e-254c8aeb6b7f",
   "metadata": {},
   "outputs": [],
   "source": [
    "# Question_4:-Compare and contrast tuples and lists with examples ."
   ]
  },
  {
   "cell_type": "code",
   "execution_count": 17,
   "id": "dcd11e83-6465-4aeb-b8b3-e530ade5b742",
   "metadata": {},
   "outputs": [
    {
     "name": "stdout",
     "output_type": "stream",
     "text": [
      "[10, 2, 3]\n"
     ]
    },
    {
     "ename": "TypeError",
     "evalue": "'tuple' object does not support item assignment",
     "output_type": "error",
     "traceback": [
      "\u001b[0;31m---------------------------------------------------------------------------\u001b[0m",
      "\u001b[0;31mTypeError\u001b[0m                                 Traceback (most recent call last)",
      "Cell \u001b[0;32mIn[17], line 26\u001b[0m\n\u001b[1;32m     23\u001b[0m \u001b[38;5;28mprint\u001b[39m(my_list)  \u001b[38;5;66;03m# Output: [10, 2, 3]\u001b[39;00m\n\u001b[1;32m     25\u001b[0m my_tuple \u001b[38;5;241m=\u001b[39m (\u001b[38;5;241m1\u001b[39m, \u001b[38;5;241m2\u001b[39m, \u001b[38;5;241m3\u001b[39m)\n\u001b[0;32m---> 26\u001b[0m \u001b[43mmy_tuple\u001b[49m\u001b[43m[\u001b[49m\u001b[38;5;241;43m0\u001b[39;49m\u001b[43m]\u001b[49m \u001b[38;5;241m=\u001b[39m \u001b[38;5;241m10\u001b[39m  \u001b[38;5;66;03m# This will raise an error since tuples are immutable\u001b[39;00m\n\u001b[1;32m     29\u001b[0m \u001b[38;5;66;03m# 2. Syantax:- \u001b[39;00m\n\u001b[1;32m     30\u001b[0m \n\u001b[1;32m     31\u001b[0m         \u001b[38;5;66;03m#Lists: Lists are defined using square brackets [ ].\u001b[39;00m\n\u001b[0;32m   (...)\u001b[0m\n\u001b[1;32m     34\u001b[0m         \n\u001b[1;32m     35\u001b[0m         \u001b[38;5;66;03m# Example \u001b[39;00m\n\u001b[1;32m     36\u001b[0m my_list \u001b[38;5;241m=\u001b[39m [\u001b[38;5;241m1\u001b[39m, \u001b[38;5;241m2\u001b[39m, \u001b[38;5;241m3\u001b[39m]\n",
      "\u001b[0;31mTypeError\u001b[0m: 'tuple' object does not support item assignment"
     ]
    }
   ],
   "source": [
    "# Tuples and lists are both sequence data types in Python, but they have distinct characteristics that make them suitable for different purposes. Here’s a comparison and contrast between tuples and lists:\n",
    "\n",
    "# Similarities:\n",
    "    \n",
    "    # 1.Sequence Types: Both tuples and lists are sequences, meaning they maintain the order of elements.\n",
    "    \n",
    "    #2.Indexing and Slicing: Elements in both tuples and lists can be accessed using indexing and slicing.\n",
    "    \n",
    "    #3. Iteration: You can iterate over both tuples and lists using loops or comprehensions.\n",
    "    \n",
    "# Differerance: \n",
    "    \n",
    "    # 1.Mutability:\n",
    "            \n",
    "        #List: Lists are mutable, meaning you can change, add, or remove elements after the list is created.\n",
    "        \n",
    "        #Tuple: Tuples are immutable, meaning once they are created, their elements cannot be changed or modified.\n",
    "        \n",
    "        #Example: \n",
    "        \n",
    "my_list = [1, 2, 3]\n",
    "my_list[0] = 10  # Modifying a list element\n",
    "print(my_list)  # Output: [10, 2, 3]\n",
    "\n",
    "my_tuple = (1, 2, 3)\n",
    "my_tuple[0] = 10  # This will raise an error since tuples are immutable\n",
    "\n",
    "\n",
    "# 2. Syantax:- \n",
    "\n",
    "        #Lists: Lists are defined using square brackets [ ].\n",
    "    \n",
    "        # Tuple: Tuples are defined using parentheses ( ), although they can also be defined without parentheses for clarity in some contexts.\n",
    "        \n",
    "        # Example \n",
    "my_list = [1, 2, 3]\n",
    "my_tuple = (1, 2, 3)  # Using parentheses\n",
    "\n",
    "another_tuple = 4, 5, 6  # Tuples can also be defined without parentheses\n",
    "\n",
    "# 3. Usage:- \n",
    "      \n",
    "    # Lists: Lists are typically used for collections of homogeneous items where the order and mutability of elements are important, such as managing a collection of user inputs or a dynamic list of data.\n",
    "    \n",
    "    #Tuple: uples: Tuples are used when the elements are related and often represent a single entity. They are also useful for returning multiple values from a function and for immutability guarantees.\n",
    "    \n",
    "# 4. Performance:- \n",
    "       \n",
    "    # Lists: Due to their mutability, lists may consume more memory and have slightly slower performance compared to tuples for operations like indexing and iteration.\n",
    "    \n",
    "    # Tuple: Tuples: Tuples are more memory efficient and have faster access times for reading data, especially when the size is fixed and known at creation time.\n",
    "\n",
    "\n"
   ]
  },
  {
   "cell_type": "code",
   "execution_count": 18,
   "id": "e7034236-3987-4255-a4cc-1998901e50e6",
   "metadata": {},
   "outputs": [],
   "source": [
    "# Question_5: Describe the key creatures of sets and provide examples of their use"
   ]
  },
  {
   "cell_type": "code",
   "execution_count": 32,
   "id": "fc232d93-6887-4df1-bfe7-95c40f1bb39e",
   "metadata": {},
   "outputs": [
    {
     "name": "stdout",
     "output_type": "stream",
     "text": [
      "{1, 2, 3, 4, 5}\n",
      "{3, 4, 5}\n",
      "{1, 2, 3, 4, 5, 6}\n",
      "{3, 4}\n",
      "{1, 2}\n",
      "{1, 2, 5, 6}\n",
      "False\n",
      "False\n",
      "{0, 1, 64, 4, 36, 9, 16, 49, 81, 25}\n",
      "3 is in set A\n",
      "3\n",
      "4\n",
      "5\n",
      "6\n"
     ]
    }
   ],
   "source": [
    "# In Python, you can work with sets using built-in data structures and operations provided by the language. Let's describe the key creatures of sets and provide examples of their use in Python:\n",
    "\n",
    "     # 1.Creating set:- Sets in Python are defined using curly braces {} or the set() function.\n",
    "       \n",
    "        # Example:  #A = {1, 2, 3, 4}\n",
    "                    #B = {3, 4, 5, 6}\n",
    "    # 2. Adding and Removing Elements:- Elements can be added to a set using the add() method, and removed using the remove() method.\n",
    "        \n",
    "        # Example: \n",
    "A = {1, 2, 3, 4}\n",
    "B = {3, 4, 5, 6}       \n",
    "A.add(5)  # A becomes {1, 2, 3, 4, 5}\n",
    "B.remove(6)  # B becomes {3, 4, 5}\n",
    "print(A)\n",
    "print(B)\n",
    "\n",
    "     # 3. Set Operation:- Python supports operations like union (| or .union()), intersection (& or .intersection()), difference (- or .difference()), and symmetric difference (^ or .symmetric_difference()).\n",
    "\n",
    "             # Example:- \n",
    "A = {1, 2, 3, 4}\n",
    "B = {3, 4, 5, 6}         \n",
    "union_set = A | B  # Union of A and B: {1, 2, 3, 4, 5, 6}\n",
    "intersection_set = A & B  # Intersection of A and B: {3, 4}\n",
    "difference_set = A - B  # Difference of A and B: {1, 2}\n",
    "symmetric_difference_set = A ^ B  # Symmetric difference of A and B: {1, 2, 5, 6}\n",
    "print(union_set)\n",
    "print(intersection_set)\n",
    "print(difference_set)\n",
    "print(symmetric_difference_set)\n",
    "\n",
    "       # 4. Subset and Superset Checking:You can check if one set is a subset or superset of another using <= (subset) or >= (superset) operators.\n",
    "       \n",
    "                 # Example:\n",
    "            \n",
    "            \n",
    "is_subset = A <= B  # Checks if A is a subset of B\n",
    "is_superset = B >= A  # Checks if B is a superset of A\n",
    "print(is_subset)\n",
    "print(is_superset)\n",
    "\n",
    "\n",
    "        # 5.Set Comprehension: Set comprehensions allow you to create sets based on conditions in a compact and readable way.\n",
    "             \n",
    "                # Example: \n",
    "squares = {x**2 for x in range(10)}  # Creates a set of squares of numbers from 0 to 9\n",
    "print(squares)\n",
    "\n",
    "\n",
    "         # 6. Set Membership and Iteration:You can check if an element is in a set using the in keyword, and iterate over elements of a set using a for loop.\n",
    "                     \n",
    "                # Example: \n",
    "            \n",
    "if 3 in A:\n",
    "    print(\"3 is in set A\")\n",
    "\n",
    "for elem in B:\n",
    "    print(elem)"
   ]
  },
  {
   "cell_type": "code",
   "execution_count": 33,
   "id": "82aa67b3-7ee8-4918-bde3-e89953062940",
   "metadata": {},
   "outputs": [],
   "source": [
    "# Question_6:- Discuss the use cases of tuples and sets in Python programming.\n"
   ]
  },
  {
   "cell_type": "code",
   "execution_count": 34,
   "id": "948d53a4-cc1d-494e-86e4-1aac2e8cecbc",
   "metadata": {},
   "outputs": [],
   "source": [
    "# Tuples and sets are both fundamental data structures in Python, but they serve different purposes and have distinct characteristics that make them suitable for different use cases.\n",
    "\n",
    "# Tuple: \n",
    "       # 1.Immutable Sequence: \n",
    "             \n",
    "              #.Tuples are immutable, meaning once they are created, their elements cannot be changed. This immutability makes tuples useful for representing fixed collections of items that should not be modified.\n",
    "              \n",
    "              #.Use Case: Storing data that should remain constant throughout the program's execution, such as coordinates, configuration settings, or database records.\n",
    "      # 2.Function Return Values:\n",
    "          \n",
    "            #.Tuples are often used to return multiple values from a function in a single return statement. This is convenient when you need to pass back more than one piece of data.\n",
    "            \n",
    "            #.Use Case: Returning multiple values from a function without using more complex data structures.\n",
    "            \n",
    "      # 3.Dictionary Keys:\n",
    "            \n",
    "             #.Since tuples are immutable and hashable (if all their elements are hashable), they can be used as keys in dictionaries.\n",
    "            \n",
    "             #.Use Case: Creating dictionaries where keys need to be fixed combinations of values (e.g., coordinates as keys for a grid).\n",
    "                \n",
    "      # 4.Performance:\n",
    "           \n",
    "             #.Tuples are generally faster than lists because they are immutable. This can be advantageous in situations where you need to iterate over data or access elements quickly.\n",
    "            \n",
    "            #.Use Case: Storing data that needs to be accessed frequently or iterated over rapidly.\n",
    "            \n",
    "     # 5.Unpacking:\n",
    "             \n",
    "             #.Tuples can be unpacked into multiple variables easily, which makes them handy when you need to assign values to multiple variables in a single statement.\n",
    "            \n",
    "             #.Use Case: Assigning values returned from a function to separate variables in one step.\n",
    "\n",
    "#Set: \n",
    "       \n",
    "      # 1.Uniqueness and Set Operations:\n",
    "           \n",
    "             #.Sets in Python are collections of unique elements. They are useful for tasks that involve checking membership, eliminating duplicates, and performing set operations (union, intersection, difference, etc.).\n",
    "                \n",
    "             #.Use Case: Removing duplicates from a list, checking for existence of items, or combining data while ensuring uniqueness.\n",
    "            \n",
    "      # 2.Mathematical Set Operations:\n",
    "          \n",
    "             #.Sets support operations like union, intersection, difference, and symmetric difference, which are essential in various algorithms and data processing tasks.\n",
    "            \n",
    "             #.Use Case: Finding common elements between two lists, determining unique items in a dataset, or combining data from different sources while handling duplicates.\n",
    "                \n",
    "      # 3.Membership Testing and Fast Lookup:\n",
    "    \n",
    "             #.Checking if an element is in a set is very fast (average O(1) time complexity), which makes sets ideal for scenarios where quick membership testing is required.\n",
    "             \n",
    "             #.Use Case: Maintaining a collection of unique items for quick lookup or verification.\n",
    "                \n",
    "      # 4.Mutable and Dynamic:\n",
    "             \n",
    "             #.Unlike tuples, sets are mutable, meaning you can add or remove elements after their creation. This flexibility allows sets to be dynamically updated based on program requirements.\n",
    "            \n",
    "             #.Use Case: Tracking changing data over time, such as unique user IDs logged into a system.\n",
    "      \n",
    "    # 5.Set Comprehensions:\n",
    "               \n",
    "             #.Similar to list comprehensions, Python supports set comprehensions for creating sets in a concise and readable manner.\n",
    "            \n",
    "            #.Use Case: Generating sets based on conditions or transformations from other iterables.\n",
    "\n"
   ]
  },
  {
   "cell_type": "code",
   "execution_count": 35,
   "id": "4d6a51e0-7537-44af-9358-da027634d838",
   "metadata": {},
   "outputs": [],
   "source": [
    "# Question_7: Describe how to add modify and delete items in a dictionary with examples."
   ]
  },
  {
   "cell_type": "code",
   "execution_count": 43,
   "id": "90aa8bbd-ac86-4c96-8904-fd4330475809",
   "metadata": {},
   "outputs": [
    {
     "name": "stdout",
     "output_type": "stream",
     "text": [
      "{'name': 'John', 'age': 30}\n",
      "{'name': 'Alice', 'age': 25, 'city': 'New York'}\n",
      "{'name': 'Bob', 'age': 29, 'city': 'Los Angeles'}\n",
      "{'name': 'Alice', 'city': 'Boston'}\n",
      "{'name': 'David', 'age': 35}\n"
     ]
    }
   ],
   "source": [
    "# In Python, dictionaries are versatile data structures that store key-value pairs. Adding, modifying, and deleting items in a dictionary are common operations that are straightforward to perform using built-in methods and syntax. Here’s how you can do each of these operations:\n",
    "\n",
    "# 1. Adding Items to a Dictionary:To add a new item (key-value pair) to a dictionary, you can simply assign a value to a new key, or use the update() method to add multiple items at once.\n",
    "        \n",
    "         # Using assignment:\n",
    "        \n",
    "# Creating an empty dictionary\n",
    "my_dict = {}\n",
    "\n",
    "# Adding a single item\n",
    "my_dict['name'] = 'John'\n",
    "# Now my_dict is {'name': 'John'}\n",
    "\n",
    "# Adding another item\n",
    "my_dict['age'] = 30\n",
    "# Now my_dict is {'name': 'John', 'age': 30}\n",
    "print(my_dict)\n",
    "\n",
    "          \n",
    "       #.Using update() method:\n",
    "        \n",
    "# Creating an empty dictionary\n",
    "my_dict = {}\n",
    "\n",
    "# Adding multiple items at once\n",
    "my_dict.update({'name': 'Alice', 'age': 25, 'city': 'New York'})\n",
    "# Now my_dict is {'name': 'Alice', 'age': 25, 'city': 'New York'}\n",
    "print(my_dict)   \n",
    "\n",
    "\n",
    "\n",
    "# 2.Modifying Items in a Dictionary: To modify an existing item in a dictionary, simply reassign a new value to the existing key.\n",
    "    \n",
    "         # Example:- \n",
    "\n",
    "my_dict = {'name': 'Bob', 'age': 28, 'city': 'San Francisco'}\n",
    "\n",
    "# Modifying the 'age' value\n",
    "my_dict['age'] = 29\n",
    "# Now my_dict is {'name': 'Bob', 'age': 29, 'city': 'San Francisco'}\n",
    "\n",
    "# Modifying the 'city' value\n",
    "my_dict['city'] = 'Los Angeles'\n",
    "# Now my_dict is {'name': 'Bob', 'age': 29, 'city': 'Los Angeles'}\n",
    "print(my_dict)\n",
    "\n",
    "\n",
    "\n",
    "# 3.Deleting Items from a Dictionary:\n",
    "      \n",
    "        #Using del keyword:\n",
    "        \n",
    "my_dict = {'name': 'Alice', 'age': 25, 'city': 'Boston'}\n",
    "\n",
    "# Deleting the 'age' key\n",
    "del my_dict['age']\n",
    "# Now my_dict is {'name': 'Alice', 'city': 'Boston'}\n",
    "print(my_dict)\n",
    "\n",
    "          \n",
    "        # Using pop() method :\n",
    "        \n",
    "my_dict = {'name': 'David', 'age': 35, 'city': 'Chicago'}\n",
    "\n",
    "# Removing the 'city' key and retrieving its value\n",
    "removed_city = my_dict.pop('city')\n",
    "# Now my_dict is {'name': 'David', 'age': 35}\n",
    "# removed_city contains 'Chicago'\n",
    "print(my_dict)\n",
    "\n",
    "\n",
    "\n"
   ]
  },
  {
   "cell_type": "code",
   "execution_count": 44,
   "id": "cc306438-447f-41ec-be47-f9b60975db17",
   "metadata": {},
   "outputs": [],
   "source": [
    "# Question_8:- Discuss the importance of dictionary keys being immutable and provide examples."
   ]
  },
  {
   "cell_type": "code",
   "execution_count": 47,
   "id": "19064aec-fbec-4fa6-a83c-028062073fdd",
   "metadata": {},
   "outputs": [
    {
     "name": "stdout",
     "output_type": "stream",
     "text": [
      "{'name': 'Alice', 'age': 30}\n",
      "{(0, 0): 'origin', (1, 1): 'diagonal'}\n",
      "{42: 'answer', 3.14: 'pi', frozenset({1, 2, 3}): 'immutable set'}\n"
     ]
    }
   ],
   "source": [
    "#.Importance of Immutable Dictionary Keys:\n",
    "\n",
    "       #1.Hashing and Lookup Efficiency:\n",
    "                  \n",
    "            #.Dictionary keys must be immutable so that they can be reliably hashed. Hashing is a technique used to convert a key into a unique numerical value, which allows for efficient storage and retrieval of key-value pairs.\n",
    "            #.Immutable keys ensure that their hash value remains constant throughout their lifetime in the dictionary. This consistency is essential for quick lookups, as Python can directly compute the hash and locate the corresponding bucket in constant time on average (O(1) time complexity).\n",
    "        \n",
    "       \n",
    "       #2.Preventing Unintended Modifications:\n",
    "              \n",
    "            #. If dictionary keys were mutable, and if a key's value were to change after it had been used as a dictionary key, it could lead to unexpected behavior. For example, changing the value of a mutable object (such as a list or another dictionary) used as a key could potentially change its hash value or affect the overall structure of the dictionary.\n",
    "            #. Immutable keys prevent accidental or intentional modifications that could compromise the integrity of dictionary operations.\n",
    "       #3. Ensuring Consistency in Hash Tables:\n",
    "    \n",
    "            #. Dictionaries in Python are implemented as hash tables, where each key-value pair is stored based on the key's hash value. Immutability guarantees that the key's hash value does not change, maintaining the consistency required for hash table operations like insertion, retrieval, and deletion.\n",
    "            #. This consistency is fundamental to the reliable performance of dictionaries, especially in scenarios where dictionaries are heavily utilized for data storage, caching, or look-up operations.\n",
    "# .Examples of Immutable Dictionary Keys:\n",
    "\n",
    "#1.Strings as Keys:Strings are immutable in Python, which makes them excellent candidates for dictionary keys. Once a string is used as a key in a dictionary, its hash value remains unchanged.\n",
    "my_dict = {'name': 'Alice', 'age': 30}\n",
    "print(my_dict)\n",
    "\n",
    "\n",
    "#2.Tuple as key:Tuples are immutable collections, and thus can be used as dictionary keys. The immutability of tuples ensures that their hash values are consistent.\n",
    "coordinates = {(0, 0): 'origin', (1, 1): 'diagonal'}\n",
    "print(coordinates)\n",
    "\n",
    "\n",
    "#3.Numbers and Immutable Objects:Numbers (integers, floats) and other immutable objects like frozensets can also serve as dictionary keys because their values cannot change once they are created.\n",
    "my_dict = {42: 'answer', 3.14: 'pi', frozenset([1, 2, 3]): 'immutable set'}\n",
    "print(my_dict)\n",
    "\n",
    "        "
   ]
  },
  {
   "cell_type": "code",
   "execution_count": null,
   "id": "1cb29b62-309c-4a7b-9912-465bef74a86d",
   "metadata": {},
   "outputs": [],
   "source": []
  }
 ],
 "metadata": {
  "kernelspec": {
   "display_name": "Python 3 (ipykernel)",
   "language": "python",
   "name": "python3"
  },
  "language_info": {
   "codemirror_mode": {
    "name": "ipython",
    "version": 3
   },
   "file_extension": ".py",
   "mimetype": "text/x-python",
   "name": "python",
   "nbconvert_exporter": "python",
   "pygments_lexer": "ipython3",
   "version": "3.10.8"
  }
 },
 "nbformat": 4,
 "nbformat_minor": 5
}
